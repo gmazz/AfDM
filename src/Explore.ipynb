{
 "cells": [
  {
   "cell_type": "markdown",
   "id": "0e1ea545",
   "metadata": {},
   "source": [
    "####  Exploring the usage of AfDM functions on interesting data  "
   ]
  },
  {
   "cell_type": "code",
   "execution_count": 13,
   "id": "1cb9e10d",
   "metadata": {},
   "outputs": [
    {
     "data": {
      "text/plain": [
       "heuristic_search (generic function with 2 methods)"
      ]
     },
     "metadata": {},
     "output_type": "display_data"
    }
   ],
   "source": [
    "include(\"AFDM_functions.jl\")"
   ]
  },
  {
   "attachments": {},
   "cell_type": "markdown",
   "id": "df22f702",
   "metadata": {},
   "source": [
    "Implmentation of a Bayesian network in Julia (Example 2.5)"
   ]
  },
  {
   "cell_type": "code",
   "execution_count": 14,
   "id": "0342bcff",
   "metadata": {},
   "outputs": [
    {
     "data": {
      "text/plain": [
       "BayesianNetwork(Variable[Variable(:b, 2), Variable(:s, 2), Variable(:e, 2), Variable(:d, 2), Variable(:c, 2)], Factor[Factor(Variable[Variable(:b, 2)], Dict(Dict(:b => 1) => 0.99, Dict(:b => 2) => 0.01)), Factor(Variable[Variable(:s, 2)], Dict(Dict(:b => 1) => 0.98, Dict(:b => 2) => 0.02)), Factor(Variable[Variable(:e, 2), Variable(:b, 2), Variable(:s, 2)], Dict(Dict(:b => 1, :s => 1, :e => 1) => 0.9, Dict(:b => 1, :s => 1, :e => 2) => 0.1, Dict(:b => 2, :s => 2, :e => 2) => 0.99, Dict(:b => 1, :s => 2, :e => 2) => 0.96, Dict(:b => 2, :s => 2, :e => 1) => 0.01, Dict(:b => 1, :s => 2, :e => 1) => 0.04, Dict(:b => 2, :s => 1, :e => 1) => 0.05, Dict(:b => 2, :s => 1, :e => 2) => 0.95)), Factor(Variable[Variable(:d, 2), Variable(:e, 2)], Dict(Dict(:d => 2, :e => 1) => 0.04, Dict(:d => 2, :e => 2) => 0.97, Dict(:d => 1, :e => 2) => 0.03, Dict(:d => 1, :e => 1) => 0.96)), Factor(Variable[Variable(:c, 2), Variable(:e, 2)], Dict(Dict(:e => 2, :c => 1) => 0.01, Dict(:e => 1, :c => 1) => 0.98, Dict(:e => 1, :c => 2) => 0.02, Dict(:e => 2, :c => 2) => 0.99))], SimpleDiGraph{Int64}(4, [[3], [3], [4, 5], Int64[], Int64[]], [Int64[], Int64[], [1, 2], [3], [3]]))"
      ]
     },
     "metadata": {},
     "output_type": "display_data"
    }
   ],
   "source": [
    "B = Variable(:b, 2); S = Variable(:s, 2)\n",
    "E = Variable(:e, 2)\n",
    "D = Variable(:d, 2); C = Variable(:c, 2)\n",
    "vars = [B, S, E, D, C]\n",
    "factors = [\n",
    "        Factor([B], FactorTable((b=1,) => 0.99, (b=2,) => 0.01)),\n",
    "        Factor([S], FactorTable((b=1,) => 0.98, (b=2,) => 0.02)),\n",
    "        Factor([E,B,S], FactorTable(\n",
    "            (e=1,b=1,s=1) => 0.90, (e=1,b=1,s=2) => 0.04,\n",
    "            (e=1,b=2,s=1) => 0.05, (e=1,b=2,s=2) => 0.01,\n",
    "            (e=2,b=1,s=1) => 0.10, (e=2,b=1,s=2) => 0.96,\n",
    "            (e=2,b=2,s=1) => 0.95, (e=2,b=2,s=2) => 0.99)),\n",
    "        Factor([D, E], FactorTable(\n",
    "            (d=1,e=1) => 0.96, (d=1,e=2) => 0.03,\n",
    "            (d=2,e=1) => 0.04, (d=2,e=2) => 0.97)),\n",
    "        Factor([C, E], FactorTable(\n",
    "            (c=1,e=1) => 0.98, (c=1,e=2) => 0.01,\n",
    "            (c=2,e=1) => 0.02, (c=2,e=2) => 0.99))\n",
    "        ]\n",
    "graph = SimpleDiGraph(5)\n",
    "add_edge!(graph, 1, 3); add_edge!(graph, 2, 3)\n",
    "add_edge!(graph, 3, 4); add_edge!(graph, 3, 5)\n",
    "bn = BayesianNetwork(vars, factors, graph)\n"
   ]
  },
  {
   "cell_type": "markdown",
   "id": "801a560e",
   "metadata": {},
   "source": [
    "#### Baysian factor product (Algorithm 3.1)\n",
    "We implement the factor product * representing join distribution of two smaller factors ϕ and ψ "
   ]
  },
  {
   "cell_type": "code",
   "execution_count": null,
   "id": "02b5acb5",
   "metadata": {},
   "outputs": [],
   "source": []
  },
  {
   "cell_type": "markdown",
   "id": "a0644ba0",
   "metadata": {},
   "source": []
  }
 ],
 "metadata": {
  "kernelspec": {
   "display_name": "Julia 1.9.0",
   "language": "julia",
   "name": "julia-1.9"
  },
  "language_info": {
   "file_extension": ".jl",
   "mimetype": "application/julia",
   "name": "julia",
   "version": "1.9.0"
  }
 },
 "nbformat": 4,
 "nbformat_minor": 5
}
